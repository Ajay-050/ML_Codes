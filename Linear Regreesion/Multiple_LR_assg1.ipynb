{
 "cells": [
  {
   "cell_type": "code",
   "execution_count": 25,
   "id": "bde8918b-1bc9-4d0a-a887-9eae360883d2",
   "metadata": {},
   "outputs": [],
   "source": [
    "import numpy as np\n",
    "import pandas as pd\n",
    "import matplotlib.pyplot as plt\n",
    "\n",
    "data = pd.read_excel(\"Concrete_Data.xls\")"
   ]
  },
  {
   "cell_type": "code",
   "execution_count": 26,
   "id": "e2f63824-9190-4e7a-8988-e8f467f42d75",
   "metadata": {},
   "outputs": [],
   "source": [
    "Y = data.iloc[:,8].values\n",
    "X = data.iloc[:,0:8].values\n",
    "I = np.ones((Y.size,1))\n",
    "X = np.hstack((I,X))\n",
    "Y_Matrix = Y.reshape((Y.size,1)) "
   ]
  },
  {
   "cell_type": "code",
   "execution_count": 27,
   "id": "d346f7c2-6522-4b5d-b3c0-0102604e2a48",
   "metadata": {},
   "outputs": [],
   "source": [
    "def multiple_model(Y,X,learning_rate,iteration):\n",
    "    \n",
    "    m = Y.size\n",
    "    theta = np.zeros((9,1))\n",
    "\n",
    "    for i in range(iteration):\n",
    "        y_predicted = np.dot(X,theta)\n",
    "        cost = (1/(2*m))*np.sum(np.square(y_predicted - Y))\n",
    "\n",
    "        d_theta = (1/m)*np.dot(X.T,y_predicted - Y)\n",
    "        theta = theta - learning_rate*d_theta\n",
    "\n",
    "    return theta\n",
    "    \n",
    "    "
   ]
  },
  {
   "cell_type": "code",
   "execution_count": 43,
   "id": "df33bd80-cb2b-4361-8489-1bc507816004",
   "metadata": {},
   "outputs": [
    {
     "name": "stdout",
     "output_type": "stream",
     "text": [
      "[48.68361371]\n"
     ]
    }
   ],
   "source": [
    "learning_rate = 0.0000001\n",
    "iteration = 1000\n",
    "theta = multiple_model(Y_Matrix,X,learning_rate = learning_rate, iteration = iteration)\n",
    "theta\n",
    "print(np.dot([1,540,0,0,162,3,1040,676,28],theta))"
   ]
  }
 ],
 "metadata": {
  "kernelspec": {
   "display_name": "Python 3 (ipykernel)",
   "language": "python",
   "name": "python3"
  },
  "language_info": {
   "codemirror_mode": {
    "name": "ipython",
    "version": 3
   },
   "file_extension": ".py",
   "mimetype": "text/x-python",
   "name": "python",
   "nbconvert_exporter": "python",
   "pygments_lexer": "ipython3",
   "version": "3.12.1"
  }
 },
 "nbformat": 4,
 "nbformat_minor": 5
}
