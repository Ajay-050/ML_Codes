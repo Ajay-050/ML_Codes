{
 "cells": [
  {
   "cell_type": "code",
   "execution_count": 6,
   "id": "b1cd9860-3d75-42f0-802d-cfa71aee4fde",
   "metadata": {},
   "outputs": [],
   "source": [
    "import pandas as pd\n",
    "import numpy as np\n",
    "import matplotlib.pyplot as plt\n",
    "from sklearn.model_selection import train_test_split\n",
    "from sklearn.metrics import accuracy_score,recall_score,precision_score,f1_score,roc_curve,auc"
   ]
  },
  {
   "cell_type": "code",
   "execution_count": 7,
   "id": "e214abb7-1b3c-424f-a8f8-2608e3163f6c",
   "metadata": {},
   "outputs": [
    {
     "data": {
      "text/html": [
       "<div>\n",
       "<style scoped>\n",
       "    .dataframe tbody tr th:only-of-type {\n",
       "        vertical-align: middle;\n",
       "    }\n",
       "\n",
       "    .dataframe tbody tr th {\n",
       "        vertical-align: top;\n",
       "    }\n",
       "\n",
       "    .dataframe thead th {\n",
       "        text-align: right;\n",
       "    }\n",
       "</style>\n",
       "<table border=\"1\" class=\"dataframe\">\n",
       "  <thead>\n",
       "    <tr style=\"text-align: right;\">\n",
       "      <th></th>\n",
       "      <th>Id</th>\n",
       "      <th>SepalLengthCm</th>\n",
       "      <th>SepalWidthCm</th>\n",
       "      <th>PetalLengthCm</th>\n",
       "      <th>PetalWidthCm</th>\n",
       "      <th>Species</th>\n",
       "    </tr>\n",
       "  </thead>\n",
       "  <tbody>\n",
       "    <tr>\n",
       "      <th>0</th>\n",
       "      <td>1</td>\n",
       "      <td>5.1</td>\n",
       "      <td>3.5</td>\n",
       "      <td>1.4</td>\n",
       "      <td>0.2</td>\n",
       "      <td>Iris-setosa</td>\n",
       "    </tr>\n",
       "    <tr>\n",
       "      <th>1</th>\n",
       "      <td>2</td>\n",
       "      <td>4.9</td>\n",
       "      <td>3.0</td>\n",
       "      <td>1.4</td>\n",
       "      <td>0.2</td>\n",
       "      <td>Iris-setosa</td>\n",
       "    </tr>\n",
       "    <tr>\n",
       "      <th>2</th>\n",
       "      <td>3</td>\n",
       "      <td>4.7</td>\n",
       "      <td>3.2</td>\n",
       "      <td>1.3</td>\n",
       "      <td>0.2</td>\n",
       "      <td>Iris-setosa</td>\n",
       "    </tr>\n",
       "    <tr>\n",
       "      <th>3</th>\n",
       "      <td>4</td>\n",
       "      <td>4.6</td>\n",
       "      <td>3.1</td>\n",
       "      <td>1.5</td>\n",
       "      <td>0.2</td>\n",
       "      <td>Iris-setosa</td>\n",
       "    </tr>\n",
       "    <tr>\n",
       "      <th>4</th>\n",
       "      <td>5</td>\n",
       "      <td>5.0</td>\n",
       "      <td>3.6</td>\n",
       "      <td>1.4</td>\n",
       "      <td>0.2</td>\n",
       "      <td>Iris-setosa</td>\n",
       "    </tr>\n",
       "    <tr>\n",
       "      <th>...</th>\n",
       "      <td>...</td>\n",
       "      <td>...</td>\n",
       "      <td>...</td>\n",
       "      <td>...</td>\n",
       "      <td>...</td>\n",
       "      <td>...</td>\n",
       "    </tr>\n",
       "    <tr>\n",
       "      <th>145</th>\n",
       "      <td>146</td>\n",
       "      <td>6.7</td>\n",
       "      <td>3.0</td>\n",
       "      <td>5.2</td>\n",
       "      <td>2.3</td>\n",
       "      <td>Iris-virginica</td>\n",
       "    </tr>\n",
       "    <tr>\n",
       "      <th>146</th>\n",
       "      <td>147</td>\n",
       "      <td>6.3</td>\n",
       "      <td>2.5</td>\n",
       "      <td>5.0</td>\n",
       "      <td>1.9</td>\n",
       "      <td>Iris-virginica</td>\n",
       "    </tr>\n",
       "    <tr>\n",
       "      <th>147</th>\n",
       "      <td>148</td>\n",
       "      <td>6.5</td>\n",
       "      <td>3.0</td>\n",
       "      <td>5.2</td>\n",
       "      <td>2.0</td>\n",
       "      <td>Iris-virginica</td>\n",
       "    </tr>\n",
       "    <tr>\n",
       "      <th>148</th>\n",
       "      <td>149</td>\n",
       "      <td>6.2</td>\n",
       "      <td>3.4</td>\n",
       "      <td>5.4</td>\n",
       "      <td>2.3</td>\n",
       "      <td>Iris-virginica</td>\n",
       "    </tr>\n",
       "    <tr>\n",
       "      <th>149</th>\n",
       "      <td>150</td>\n",
       "      <td>5.9</td>\n",
       "      <td>3.0</td>\n",
       "      <td>5.1</td>\n",
       "      <td>1.8</td>\n",
       "      <td>Iris-virginica</td>\n",
       "    </tr>\n",
       "  </tbody>\n",
       "</table>\n",
       "<p>150 rows × 6 columns</p>\n",
       "</div>"
      ],
      "text/plain": [
       "      Id  SepalLengthCm  SepalWidthCm  PetalLengthCm  PetalWidthCm  \\\n",
       "0      1            5.1           3.5            1.4           0.2   \n",
       "1      2            4.9           3.0            1.4           0.2   \n",
       "2      3            4.7           3.2            1.3           0.2   \n",
       "3      4            4.6           3.1            1.5           0.2   \n",
       "4      5            5.0           3.6            1.4           0.2   \n",
       "..   ...            ...           ...            ...           ...   \n",
       "145  146            6.7           3.0            5.2           2.3   \n",
       "146  147            6.3           2.5            5.0           1.9   \n",
       "147  148            6.5           3.0            5.2           2.0   \n",
       "148  149            6.2           3.4            5.4           2.3   \n",
       "149  150            5.9           3.0            5.1           1.8   \n",
       "\n",
       "            Species  \n",
       "0       Iris-setosa  \n",
       "1       Iris-setosa  \n",
       "2       Iris-setosa  \n",
       "3       Iris-setosa  \n",
       "4       Iris-setosa  \n",
       "..              ...  \n",
       "145  Iris-virginica  \n",
       "146  Iris-virginica  \n",
       "147  Iris-virginica  \n",
       "148  Iris-virginica  \n",
       "149  Iris-virginica  \n",
       "\n",
       "[150 rows x 6 columns]"
      ]
     },
     "execution_count": 7,
     "metadata": {},
     "output_type": "execute_result"
    }
   ],
   "source": [
    "data = pd.read_csv(\"Iris.csv\")\n",
    "data\n"
   ]
  },
  {
   "cell_type": "code",
   "execution_count": 42,
   "id": "379d056e-2e7a-4c7e-82b1-43f7fe9f4ed4",
   "metadata": {},
   "outputs": [
    {
     "name": "stdout",
     "output_type": "stream",
     "text": [
      "[1.4 1.4 1.3 1.5 1.4 1.7 1.4 1.5 1.4 1.5 1.5 1.6 1.4 1.1 1.2 1.5 1.3 1.4\n",
      " 1.7 1.5 1.7 1.5 1.  1.7 1.9 1.6 1.6 1.5 1.4 1.6 1.6 1.5 1.5 1.4 1.5 1.2\n",
      " 1.3 1.5 1.3 1.5 1.3 1.3 1.3 1.6 1.9 1.4 1.6 1.4 1.5 1.4 4.7 4.5 4.9 4.\n",
      " 4.6 4.5 4.7 3.3 4.6 3.9 3.5 4.2 4.  4.7 3.6 4.4 4.5 4.1 4.5 3.9 4.8 4.\n",
      " 4.9 4.7 4.3 4.4 4.8 5.  4.5 3.5 3.8 3.7 3.9 5.1 4.5 4.5 4.7 4.4 4.1 4.\n",
      " 4.4 4.6 4.  3.3 4.2 4.2 4.2 4.3 3.  4.1 6.  5.1 5.9 5.6 5.8 6.6 4.5 6.3\n",
      " 5.8 6.1 5.1 5.3 5.5 5.  5.1 5.3 5.5 6.7 6.9 5.  5.7 4.9 6.7 4.9 5.7 6.\n",
      " 4.8 4.9 5.6 5.8 6.1 6.4 5.6 5.1 5.6 6.1 5.6 5.5 4.8 5.4 5.6 5.1 5.1 5.9\n",
      " 5.7 5.2 5.  5.2 5.4 5.1]\n"
     ]
    }
   ],
   "source": [
    "X = data.iloc[:,1:5].values\n",
    "Y = data.iloc[:,5].values\n",
    "Y = Y == 'Iris-virginica'\n",
    "Y = Y.astype(int)\n",
    "\n",
    "X_train,X_test,Y_train,Y_test = train_test_split(X,Y,test_size = 0.2,random_state = 30)\n"
   ]
  },
  {
   "cell_type": "markdown",
   "id": "18c92d7b-1660-442f-a770-c5b50324b7e9",
   "metadata": {},
   "source": [
    "### VISUALISING THE TARGET VARIABLE"
   ]
  },
  {
   "cell_type": "code",
   "execution_count": 57,
   "id": "7f5de3e3-9ec6-48a5-a5a8-24c3a53ee324",
   "metadata": {},
   "outputs": [
    {
     "data": {
      "image/png": "[encoded data removed]",
      "text/plain": [
       "<Figure size 640x480 with 1 Axes>"
      ]
     },
     "metadata": {},
     "output_type": "display_data"
    }
   ],
   "source": [
    "petal = X_test[:,2]\n",
    "plt.figure()\n",
    "plt.scatter(petal,Y_test,color='orange',label='Target Variable at 1')\n",
    "plt.xlabel('Petal_Length',color='blue')\n",
    "plt.ylabel('Y_Actual',color='darkblue')\n",
    "plt.title('Visualisation of Target Variable')\n",
    "plt.legend(loc='lower right')\n",
    "plt.show()"
   ]
  },
  {
   "cell_type": "code",
   "execution_count": 9,
   "id": "2cc16c9b-5c61-4f8f-b103-f35023034b99",
   "metadata": {},
   "outputs": [],
   "source": [
    "I = np.ones((X_train.shape[0],1))\n",
    "X_train = np.hstack((I,X_train))\n",
    "I1 = np.ones((X_test.shape[0],1))\n",
    "X_test = np.hstack((I1,X_test))"
   ]
  },
  {
   "cell_type": "code",
   "execution_count": 10,
   "id": "0eead14e-7ae2-45e8-838c-dcad37b17de0",
   "metadata": {},
   "outputs": [
    {
     "name": "stdout",
     "output_type": "stream",
     "text": [
      "(1, 30)\n"
     ]
    }
   ],
   "source": [
    "X_train = X_train.T\n",
    "Y_train = Y_train.reshape(1,X_train.shape[1])\n",
    "X_test = X_test.T\n",
    "Y_test = Y_test.reshape(1,X_test.shape[1])\n",
    "print(Y_test.shape)"
   ]
  },
  {
   "cell_type": "code",
   "execution_count": 11,
   "id": "c291c79d-9fb5-4440-ba8a-1569cda709db",
   "metadata": {},
   "outputs": [],
   "source": [
    "def sigmoid(x):\n",
    "    return 1/(1+np.exp(-x))"
   ]
  },
  {
   "cell_type": "code",
   "execution_count": 12,
   "id": "fc5cfd68-4a0a-433c-8cb8-566b3849d1a7",
   "metadata": {},
   "outputs": [],
   "source": [
    "def model(X,Y,learning_rate,iterations):\n",
    "    m = X.shape[1]\n",
    "    n = X.shape[0]\n",
    "    w = np.zeros((n,1))\n",
    "    cost_list = []\n",
    "    for i in range(iterations):\n",
    "        z = np.dot(w.T,X)\n",
    "        A = sigmoid(z)\n",
    "\n",
    "        cost = -(1/m)*np.sum(Y*np.log(A)+(1-Y)*np.log(1-A))\n",
    "        cost_list.append(cost)\n",
    "        dw = (1/m)*np.dot(A-Y,X.T)\n",
    "        w = w - learning_rate*dw.T\n",
    "\n",
    "    return w,cost_list\n",
    "    "
   ]
  },
  {
   "cell_type": "code",
   "execution_count": 13,
   "id": "e78b4492-c335-402c-a4c8-46162970797c",
   "metadata": {},
   "outputs": [],
   "source": [
    "learning_rate = 0.0015\n",
    "iterations = 10000\n",
    "w,cost_list = model(X_train,Y_train,learning_rate=learning_rate,iterations=iterations)\n"
   ]
  },
  {
   "cell_type": "markdown",
   "id": "8c00b821-5c2d-4aa7-a4c3-04910779c978",
   "metadata": {},
   "source": [
    "### COST VS EPOCHS GRAPH"
   ]
  },
  {
   "cell_type": "code",
   "execution_count": 66,
   "id": "ec638542-fa80-48be-bf19-85178f21cd20",
   "metadata": {},
   "outputs": [
    {
     "data": {
      "image/png": "[encoded data removed]",
      "text/plain": [
       "<Figure size 640x480 with 1 Axes>"
      ]
     },
     "metadata": {},
     "output_type": "display_data"
    }
   ],
   "source": [
    "rng = np.arange(0,iterations)\n",
    "plt.figure()\n",
    "plt.plot(rng,cost_list,color='orange')\n",
    "plt.xlabel('iterations',color='darkgreen')\n",
    "plt.ylabel('cost',color='darkblue')\n",
    "plt.title('cost vs epochs')\n",
    "plt.show()"
   ]
  },
  {
   "cell_type": "code",
   "execution_count": 14,
   "id": "1f71d3b9-784a-4a30-80f1-cb953ae9cb37",
   "metadata": {},
   "outputs": [],
   "source": [
    "\n",
    "###* true +ve : 1(y_actual) and 1(y_pred)\n",
    "###* false +ve : 0(y_actual) and 1(y_pred)\n",
    "###* true -ve : 0(y_actual) and 0(y_pred)\n",
    "###* false -ve : 1(y_actual) and 0(y_pred)\n",
    "\n",
    "\n",
    "def confusion(y_pred,y_actual):\n",
    "    \n",
    "    true_pos,false_pos,true_neg,false_neg = 0, 0, 0, 0\n",
    "    \n",
    "    for pred,actual in zip(y_pred,y_actual):\n",
    "        if actual == 1 and pred == 1:\n",
    "            true_pos += 1\n",
    "        elif actual == 0 and pred == 1:\n",
    "            false_pos += 1\n",
    "        elif actual == 0 and pred == 0:\n",
    "            true_neg += 1\n",
    "        elif actual == 1 and pred == 0:\n",
    "            false_neg += 1\n",
    "\n",
    "    \n",
    "    return true_pos,false_pos,true_neg,false_neg\n",
    "            "
   ]
  },
  {
   "cell_type": "code",
   "execution_count": 15,
   "id": "64d4d469-d00e-4316-a663-e70dbbb8f60b",
   "metadata": {},
   "outputs": [],
   "source": [
    "y_pred = sigmoid(np.dot(w.T,X_test))\n",
    "####* sigmoid is returning 2D array \n",
    "\n",
    "y_pred = y_pred > 0.5\n",
    "y_pred = np.array(y_pred,dtype = 'int32')\n"
   ]
  },
  {
   "cell_type": "markdown",
   "id": "c5bc9ab9-0256-4ed7-be28-6ff2541f699f",
   "metadata": {},
   "source": [
    "#### CONFUSION MATRIX"
   ]
  },
  {
   "cell_type": "code",
   "execution_count": 16,
   "id": "796615a2-eaa1-452d-b066-86987721412c",
   "metadata": {},
   "outputs": [
    {
     "name": "stdout",
     "output_type": "stream",
     "text": [
      "[[19  2]\n",
      " [ 0  9]]\n"
     ]
    }
   ],
   "source": [
    "true_pos, false_pos, true_neg, false_neg = confusion(y_pred[0],Y_test[0])\n",
    "confusion_matrix = np.array([[true_neg, false_pos], [false_neg, true_pos]])\n",
    "print(confusion_matrix)"
   ]
  },
  {
   "cell_type": "markdown",
   "id": "5c2cef66-0781-42b9-9ec1-48ed7220a716",
   "metadata": {},
   "source": [
    "### ACCURACY, PRECISION, F1, TPR, FPR, TNR, FNR "
   ]
  },
  {
   "cell_type": "code",
   "execution_count": null,
   "id": "1a4d2551-c48c-4a25-932a-e73a04eff5d0",
   "metadata": {},
   "outputs": [],
   "source": [
    "\n",
    "### arguments of for the following  functions should be 1D array or just pass column vector\n",
    "\n",
    "acc = accuracy_score(Y_test[0],y_pred[0])\n",
    "###*  It measures the ratio of correctly predicted instances (both true positives and true negatives) to the total number of instances. \n",
    "print(acc)\n",
    "\n",
    "prec = precision_score(Y_test[0].T,y_pred[0])\n",
    "###*  Of all the instances predicted as positive, how many are actually positive?\n",
    "###*  Precision = True Positives / True Positives+False Positives\n",
    "print(prec)\n",
    "\n",
    "F1 = f1_score(Y_test[0],y_pred[0])\n",
    "###*   It is a measure of a model's accuracy on a particular dataset. The F1 score reaches its best value at 1 and worst at 0.\n",
    "###*   F1 = 2 × (Precision+Recall/  Precision×Recall)\n",
    "print(F1)\n",
    "\n",
    "TPR = recall_score(Y_test[0],y_pred[0])\n",
    "###*  Of all the actual positive instances, how many were correctly classified as positive?\n",
    "###*  Recall  or sensitivity or tpr(true positive rate) = True Positives / True Positives+False Negatives\n",
    "print(TPR)\n",
    "\n",
    "FPR = false_pos/(true_neg+false_pos)\n",
    "###* false positive rate(fpr) : The False Positive Rate is defined as the ratio of negative instances that are incorrectly classified as positive to the\n",
    "## * total number of actual negative instances\n",
    "###*  FPR = False Positives /  False Positives+True Negatives\n",
    "print(FPR)\n",
    "\n",
    "TNR = 1- FPR\n",
    "###* specificity or true negative rate : Specificity measures the proportion of actual negative instances that are \n",
    "###* correctly identified as negative by the classifier.\n",
    "###* Specificity = True Negatives / True Negatives+False Positives\n",
    "print(TNR)\n",
    "\n",
    "FNR = false_neg / (false_neg + true_pos)\n",
    "###* False negative rate or Miss Rate :  It measures the proportion of actual positive instances that are \n",
    "###* incorrectly classified as negative by the classifier.\n",
    "###* FNR = False Negatives /  False Negatives+True Positives\n",
    "print(FNR)\n"
   ]
  },
  {
   "cell_type": "markdown",
   "id": "98dfe3c6-c491-4f28-82b9-ff2bf587e28e",
   "metadata": {},
   "source": [
    "#### AUC AND ROC CURVE"
   ]
  },
  {
   "cell_type": "code",
   "execution_count": 19,
   "id": "657c11d2-9c5e-4a0d-9672-346df50f5e00",
   "metadata": {},
   "outputs": [
    {
     "name": "stdout",
     "output_type": "stream",
     "text": [
      "0.9523809523809523\n"
     ]
    }
   ],
   "source": [
    "fpr, tpr, _ = roc_curve(Y_test[0],y_pred[0])\n",
    "roc_auc = auc(fpr,tpr)\n",
    "print(roc_auc)"
   ]
  },
  {
   "cell_type": "code",
   "execution_count": 28,
   "id": "1380aee0-8491-4650-ab43-c0bdfb165d35",
   "metadata": {},
   "outputs": [
    {
     "data": {
      "image/png": "[encoded data removed]",
      "text/plain": [
       "<Figure size 640x480 with 1 Axes>"
      ]
     },
     "metadata": {},
     "output_type": "display_data"
    }
   ],
   "source": [
    "plt.figure()\n",
    "plt.plot(fpr,tpr,color='darkorange',lw=2,label='ROC curve (area = {:.2f})'.format(roc_auc))\n",
    "plt.plot([0,1],[0,1],color='black',lw=2,linestyle='--')\n",
    "plt.xlabel('False Positive Rate')\n",
    "plt.ylabel('True Positive Rate')\n",
    "plt.title('ROC Curve')\n",
    "plt.legend(loc='lower right')\n",
    "plt.show()"
   ]
  }
 ],
 "metadata": {
  "kernelspec": {
   "display_name": "Python 3 (ipykernel)",
   "language": "python",
   "name": "python3"
  },
  "language_info": {
   "codemirror_mode": {
    "name": "ipython",
    "version": 3
   },
   "file_extension": ".py",
   "mimetype": "text/x-python",
   "name": "python",
   "nbconvert_exporter": "python",
   "pygments_lexer": "ipython3",
   "version": "3.12.1"
  }
 },
 "nbformat": 4,
 "nbformat_minor": 5
}
