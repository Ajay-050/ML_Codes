{
 "cells": [
  {
   "cell_type": "code",
   "execution_count": 17,
   "metadata": {},
   "outputs": [],
   "source": [
    "import numpy  as np\n",
    "import pandas as pd\n",
    "import matplotlib.pyplot as plt\n",
    "import random"
   ]
  },
  {
   "cell_type": "code",
   "execution_count": 18,
   "metadata": {},
   "outputs": [
    {
     "name": "stdout",
     "output_type": "stream",
     "text": [
      "(784, 999)\n",
      "(10, 999)\n",
      "(784, 349)\n",
      "(10, 349)\n"
     ]
    }
   ],
   "source": [
    "X_train = pd.read_csv(\"/home/ajaykumar/ML/ANN/ANN code/train_X.csv\").T.values\n",
    "Y_train = pd.read_csv(\"/home/ajaykumar/ML/ANN/ANN code/train_label.csv\").T.values\n",
    "\n",
    "X_test = pd.read_csv(\"/home/ajaykumar/ML/ANN/ANN code/test_X.csv\").T.values\n",
    "Y_test = pd.read_csv(\"/home/ajaykumar/ML/ANN/ANN code/test_label.csv\").T.values\n",
    "\n",
    "print(X_train.shape)\n",
    "print(Y_train.shape)\n",
    "print(X_test.shape)\n",
    "print(Y_test.shape)"
   ]
  },
  {
   "cell_type": "code",
   "execution_count": 19,
   "metadata": {},
   "outputs": [
    {
     "data": {
      "image/png": "[encoded data removed]",
      "text/plain": [
       "<Figure size 640x480 with 1 Axes>"
      ]
     },
     "metadata": {},
     "output_type": "display_data"
    }
   ],
   "source": [
    "index = random.randrange(0,X_train.shape[1])\n",
    "plt.imshow(X_train[:, index].reshape(28,28),cmap='gray')\n",
    "plt.show()"
   ]
  },
  {
   "cell_type": "markdown",
   "metadata": {},
   "source": [
    "#### ANN with single layer"
   ]
  },
  {
   "cell_type": "markdown",
   "metadata": {},
   "source": [
    "# Model\n",
    "\n",
    "\n",
    "## Initialize parameters Randomly\n",
    "$ W_1 = np.random.randn(n_1, n_0) $\n",
    "\n",
    "$ b_1 = np.zeros((n_1, 1))$\n",
    "\n",
    "$ W_2 = np.random.randn(n_2, n_1) $\n",
    "\n",
    "$ b_2 = np.zeros((n_2, 1))$\n",
    "\n",
    "\n",
    "## *Repeat Below Steps for many times : *\n",
    "\n",
    "\n",
    "## Forward Propagation \n",
    "\n",
    "$ Z_1 = W_1 * X + B_1 $\n",
    "\n",
    "$ A_1 = f ( Z_1 ) $  \n",
    "\n",
    "$ Z_2 = W2 * A_1 + B_2 $\n",
    "\n",
    "$ A_2 = Softmax( Z_2 ) $\n",
    "\n",
    "## Softmax \n",
    "\n",
    "$ a_i = \\frac{e^{z_i}}{\\sum_{i=k}^ne^{z_k}}$\n",
    "\n",
    "\n",
    "## Cost Function \n",
    "\n",
    "$Loss = - \\sum_{i=k}^{n}[ y_k*log(a_k) ]$\n",
    "\n",
    "$Cost = - \\frac{1}{m}\\sum_{i=1}^{m}\\sum_{k=1}^{n}[ y_k*log(a_k) ]$\n",
    "\n",
    "\n",
    "\n",
    "## Backward Propagation\n",
    "$dZ_2 = ( A_2 - Y )$\n",
    "\n",
    "$ dW_2 = \\frac{1}{m}. dZ_2 . A_1^T$\n",
    "\n",
    "$ dB_2 = \\frac{1}{m}.sum(dZ_2, 1)$\n",
    "\n",
    "\n",
    "\n",
    "$dZ_1 = W_2^T . dZ_2 * f_1^|(Z_1) $\n",
    "\n",
    "$dW_1 = \\frac{1}{m}.dZ_1.X^T$\n",
    "\n",
    "$dB_1 = \\frac{1}{m}.sum(dZ_1, 1)$\n",
    "\n",
    "\n",
    "## Updating Parameters\n",
    "\n",
    "$ W_2 = W_2 -  \\alpha * \\frac{\\partial Cost }{\\partial W_2}$ \n",
    "\n",
    "$ B_2 = B_2 -  \\alpha * \\frac{\\partial Cost }{\\partial B_2}$ \n",
    "\n",
    "$ W_1 = W_1 -  \\alpha * \\frac{\\partial Cost }{\\partial W_1}$ \n",
    "\n",
    "$ B_1 = B_1 -  \\alpha * \\frac{\\partial Cost }{\\partial B_1}$ \n"
   ]
  },
  {
   "cell_type": "code",
   "execution_count": 20,
   "metadata": {},
   "outputs": [],
   "source": [
    "def tanh(x):\n",
    "    return np.tanh(x);\n",
    "\n",
    "def relu(x):\n",
    "    return np.maximum(0,x);\n",
    "\n",
    "def softmax(x):\n",
    "    expX = np.exp(x)\n",
    "    return expX/np.sum(expX,axis=0);"
   ]
  },
  {
   "cell_type": "code",
   "execution_count": 21,
   "metadata": {},
   "outputs": [],
   "source": [
    "def derivative_tanh(x):\n",
    "    return (1 - np.power(x,2))\n",
    "\n",
    "def derivative_relu(x):\n",
    "    return np.array(x>0,dtype=np.float32)  "
   ]
  },
  {
   "cell_type": "markdown",
   "metadata": {},
   "source": [
    "#### Initialise Parameters"
   ]
  },
  {
   "cell_type": "markdown",
   "metadata": {},
   "source": []
  },
  {
   "cell_type": "code",
   "execution_count": 22,
   "metadata": {},
   "outputs": [],
   "source": [
    "def initialize_parameters(n_x,n_h,n_y):\n",
    "    w1 = np.random.randn(n_h,n_x)*0.001\n",
    "    b1 = np.zeros((n_h,1))\n",
    "\n",
    "    w2 = np.random.randn(n_y,n_h)*0.001\n",
    "    b2 = np.zeros((n_y,1))\n",
    "\n",
    "    parameters = {\n",
    "        \"w1\" : w1,\n",
    "        \"b1\" : b1,\n",
    "        \"w2\" : w2,\n",
    "        \"b2\" : b2\n",
    "    }\n",
    "    return parameters"
   ]
  },
  {
   "cell_type": "markdown",
   "metadata": {},
   "source": [
    "### Forward Propagation"
   ]
  },
  {
   "cell_type": "code",
   "execution_count": 23,
   "metadata": {},
   "outputs": [],
   "source": [
    "def forward_propagation(x,parameters):\n",
    "\n",
    "    w1 = parameters['w1']\n",
    "    b1 = parameters['b1']\n",
    "\n",
    "    w2 = parameters['w2']\n",
    "    b2 = parameters['b2']\n",
    "\n",
    "    z1 = np.dot(w1,x)+b1\n",
    "    a1 = relu(z1)\n",
    "\n",
    "    z2 = np.dot(w2,a1)+b2\n",
    "    a2 = softmax(z2)    \n",
    "\n",
    "    forward_cache = {\n",
    "        \"z1\" : z1,\n",
    "        \"a1\" : a1,\n",
    "        \"z2\" : z2,\n",
    "        \"a2\" : a2\n",
    "    }\n",
    "\n",
    "    return forward_cache"
   ]
  },
  {
   "cell_type": "markdown",
   "metadata": {},
   "source": [
    "#### Cost Function"
   ]
  },
  {
   "cell_type": "code",
   "execution_count": 24,
   "metadata": {},
   "outputs": [],
   "source": [
    "def cost_func(a2,y):\n",
    "    m = y.shape[1]\n",
    "\n",
    "    cost = -(1/m)*np.sum(y*np.log(a2))\n",
    "\n",
    "    return cost\n"
   ]
  },
  {
   "cell_type": "markdown",
   "metadata": {},
   "source": [
    "# Backpropagation\n",
    "\n",
    "$dZ_2 = ( A_2 - Y )$\n",
    "\n",
    "$ dW_2 = \\frac{1}{m}. dZ_2 . A_1^T$\n",
    "\n",
    "$ dB_2 = \\frac{1}{m}.sum(dZ_2, 1)$\n",
    "\n",
    "\n",
    "\n",
    "$dZ_1 = W_2^T . dZ_2 * f_1^|(Z_1) $\n",
    "\n",
    "$dW_1 = \\frac{1}{m}.dZ_1.X^T$\n",
    "\n",
    "$dB_1 = \\frac{1}{m}.sum(dZ_1, 1)$"
   ]
  },
  {
   "cell_type": "markdown",
   "metadata": {},
   "source": []
  },
  {
   "cell_type": "code",
   "execution_count": 25,
   "metadata": {},
   "outputs": [],
   "source": [
    "def back_propagation(x,y,parameters,forward_cache):\n",
    "\n",
    "    m = x.shape[1]\n",
    "    \n",
    "    w1 = parameters['w1']\n",
    "    b1 = parameters['b1']\n",
    "\n",
    "    w2 = parameters['w2']\n",
    "    b2 = parameters['b2']\n",
    "\n",
    "    a1 = forward_cache['a1']\n",
    "    a2 = forward_cache['a2']\n",
    "\n",
    "    z1 = forward_cache['z1']\n",
    "    z2 = forward_cache['z2']\n",
    "\n",
    "    dz2 = (a2 - y)\n",
    "    dw2 = (1/m)*np.dot(dz2, a1.T)\n",
    "    db2 = (1/m)*np.sum(dz2,axis=1,keepdims = True)\n",
    "\n",
    "    dz1 = np.dot(w2.T, dz2)*derivative_relu(a1)\n",
    "    dw1 = (1/m)*np.dot(dz1, x.T)\n",
    "    db1 = (1/m)*np.sum(dz1,axis=1,keepdims = True)\n",
    "\n",
    "    gradients = {\n",
    "        \"dw1\" : dw1,\n",
    "        \"db1\" : db1,\n",
    "        \"dw2\" : dw2,\n",
    "        \"db2\" : db2\n",
    "    }\n",
    "\n",
    "    return gradients\n",
    "\n",
    "    \n"
   ]
  },
  {
   "cell_type": "markdown",
   "metadata": {},
   "source": [
    "## Update Parameters"
   ]
  },
  {
   "cell_type": "code",
   "execution_count": 26,
   "metadata": {},
   "outputs": [],
   "source": [
    "def update_parameters(parameters,gradients,learning_rate):\n",
    "\n",
    "    w1 = parameters['w1']\n",
    "    b1 = parameters['b1']\n",
    "\n",
    "    w2 = parameters['w2']\n",
    "    b2 = parameters['b2']\n",
    "\n",
    "    dw1 = gradients['dw1']\n",
    "    db1 = gradients['db1']\n",
    "\n",
    "    dw2 = gradients['dw2']\n",
    "    db2 = gradients['db2']\n",
    "\n",
    "    w1 = w1 - learning_rate*dw1\n",
    "    b1 = b1 - learning_rate*db1\n",
    "    \n",
    "    w2 = w2 - learning_rate*dw2\n",
    "    b2 = b2 - learning_rate*db2\n",
    "\n",
    "    parameters = {\n",
    "        \"w1\" : w1,\n",
    "        \"b1\" : b1,\n",
    "        \"w2\" : w2,\n",
    "        \"b2\" : b2\n",
    "    }\n",
    "\n",
    "    return parameters"
   ]
  },
  {
   "cell_type": "code",
   "execution_count": 27,
   "metadata": {},
   "outputs": [],
   "source": [
    "def model(x,y,n_h,learning_rate,epochs):\n",
    "    n_x = x.shape[0]\n",
    "    n_y = y.shape[0]\n",
    "    cost_list = []\n",
    "    parameters = initialize_parameters(n_x,n_h,n_y)\n",
    "\n",
    "    for i in range(epochs):\n",
    "        \n",
    "        forward_cache = forward_propagation(x,parameters)\n",
    "        cost = cost_func(forward_cache['a2'],y)\n",
    "        cost_list.append(cost)\n",
    "        gradients = back_propagation(x,y,parameters,forward_cache)\n",
    "        parameters = update_parameters(parameters,gradients,learning_rate)\n",
    "\n",
    "    \n",
    "    return parameters,cost_list"
   ]
  },
  {
   "cell_type": "markdown",
   "metadata": {},
   "source": [
    "## Code Done!. Let's call the Model"
   ]
  },
  {
   "cell_type": "code",
   "execution_count": 28,
   "metadata": {},
   "outputs": [
    {
     "data": {
      "text/plain": [
       "[2.308931640893288,\n",
       " 2.2512247805038132,\n",
       " 2.196123821024147,\n",
       " 2.139820945414306,\n",
       " 2.0797396268602455,\n",
       " 2.0144065995284337,\n",
       " 1.9430039904759258,\n",
       " 1.86566473585903,\n",
       " 1.7832665946733612,\n",
       " 1.6971399723161569,\n",
       " 1.609105430448817,\n",
       " 1.521279413798384,\n",
       " 1.4354626875220615,\n",
       " 1.3533268691555111,\n",
       " 1.2760786713887908,\n",
       " 1.2044142244063365,\n",
       " 1.138610294973642,\n",
       " 1.0786003698676168,\n",
       " 1.0241098258770416,\n",
       " 0.9747333823196788,\n",
       " 0.9300155951628306,\n",
       " 0.8894739791117726,\n",
       " 0.8526404186618951,\n",
       " 0.8190816216983147,\n",
       " 0.7884213981527766,\n",
       " 0.7603123305781677,\n",
       " 0.7344605932801027,\n",
       " 0.7106066942051835,\n",
       " 0.6885397319938628,\n",
       " 0.6680599987917143,\n",
       " 0.6490069077704526,\n",
       " 0.6312338186110696,\n",
       " 0.6146077003160152,\n",
       " 0.5990218404478757,\n",
       " 0.5843718724036124,\n",
       " 0.5705724551871819,\n",
       " 0.5575515616439484,\n",
       " 0.5452395374896399,\n",
       " 0.5335763414363724,\n",
       " 0.5225092203849757,\n",
       " 0.511989171680407,\n",
       " 0.5019733453218518,\n",
       " 0.4924222079201254,\n",
       " 0.4833022242316249,\n",
       " 0.4745832901911273,\n",
       " 0.46623731833765364,\n",
       " 0.4582346921231377,\n",
       " 0.4505522412687854,\n",
       " 0.4431680135336052,\n",
       " 0.4360640493053856,\n",
       " 0.4292211969611305,\n",
       " 0.4226230281864826,\n",
       " 0.4162546701488992,\n",
       " 0.41010354990884273,\n",
       " 0.40415550577817744,\n",
       " 0.3983999675972392,\n",
       " 0.39282620574427635,\n",
       " 0.38742405086431747,\n",
       " 0.3821852991403385,\n",
       " 0.3770996444908931,\n",
       " 0.37215765379699917,\n",
       " 0.36735262654101725,\n",
       " 0.36267733109367667,\n",
       " 0.35812621198810285,\n",
       " 0.35369311306150986,\n",
       " 0.3493722779436539,\n",
       " 0.3451584261399396,\n",
       " 0.34104614843217596,\n",
       " 0.33703124534168133,\n",
       " 0.33310854686760333,\n",
       " 0.3292747846673337,\n",
       " 0.32552679972367704,\n",
       " 0.3218601784094806,\n",
       " 0.3182718817313386,\n",
       " 0.31475847180440814,\n",
       " 0.31131706320333696,\n",
       " 0.307944220244393,\n",
       " 0.3046383883726211,\n",
       " 0.3013966221179728,\n",
       " 0.2982159439656781,\n",
       " 0.29509550307242294,\n",
       " 0.29203267016899703,\n",
       " 0.2890248433113069,\n",
       " 0.286069958365297,\n",
       " 0.28316692688595146,\n",
       " 0.28031426161081247,\n",
       " 0.27751047162379044,\n",
       " 0.2747535963664076,\n",
       " 0.27204190376136755,\n",
       " 0.2693737091523472,\n",
       " 0.26674788716815423,\n",
       " 0.2641641105955028,\n",
       " 0.26161976996470404,\n",
       " 0.2591152495685692,\n",
       " 0.2566486228858733,\n",
       " 0.2542193479423846,\n",
       " 0.25182616432016375,\n",
       " 0.2494689058657004,\n",
       " 0.24714457970604745,\n",
       " 0.24485361507658945]"
      ]
     },
     "execution_count": 28,
     "metadata": {},
     "output_type": "execute_result"
    }
   ],
   "source": [
    "epochs = 100\n",
    "learning_rate = 0.001\n",
    "n_h = 1000\n",
    "parameters,cost_list = model(X_train,Y_train,n_h = n_h,learning_rate = learning_rate,epochs = epochs)\n",
    "cost_list"
   ]
  },
  {
   "cell_type": "markdown",
   "metadata": {},
   "source": [
    "Cost vs Epoch Graph\n"
   ]
  },
  {
   "cell_type": "code",
   "execution_count": 29,
   "metadata": {},
   "outputs": [
    {
     "data": {
      "text/plain": [
       "<function matplotlib.pyplot.show(close=None, block=None)>"
      ]
     },
     "execution_count": 29,
     "metadata": {},
     "output_type": "execute_result"
    },
    {
     "data": {
      "image/png": "[encoded data removed]",
      "text/plain": [
       "<Figure size 640x480 with 1 Axes>"
      ]
     },
     "metadata": {},
     "output_type": "display_data"
    }
   ],
   "source": [
    "rng = np.arange(0,epochs)   \n",
    "plt.plot(rng,cost_list)\n",
    "plt.show"
   ]
  },
  {
   "cell_type": "code",
   "execution_count": 30,
   "metadata": {},
   "outputs": [],
   "source": [
    "def accuracy(x,y,parameters):\n",
    "    forward_cache = forward_propagation(x,parameters)\n",
    "\n",
    "    a_out = forward_cache['a2']\n",
    "    #* a_out here is an array of shape(10,999) having values actually probabilities of each index(i.e from 0 to 9) for all images.\n",
    "\n",
    "    a_out = np.argmax(a_out,0)\n",
    "    #* 0 in the argument is to check by row and return index which have highest probability.\n",
    "    #* a_out will have index value which has highest probability for all 1000 images.\n",
    "\n",
    "    y_out = np.argmax(y,0)\n",
    "\n",
    "    acc = np.mean(a_out == y_out)*100\n",
    "\n",
    "    return acc\n"
   ]
  },
  {
   "cell_type": "markdown",
   "metadata": {},
   "source": [
    "### Calculating Accuracy of Training and Testing Datasets"
   ]
  },
  {
   "cell_type": "code",
   "execution_count": 31,
   "metadata": {},
   "outputs": [
    {
     "name": "stdout",
     "output_type": "stream",
     "text": [
      "95.09509509509509\n",
      "86.24641833810888\n"
     ]
    }
   ],
   "source": [
    "acc1 = accuracy(X_train,Y_train,parameters)\n",
    "acc2 = accuracy(X_test,Y_test,parameters)\n",
    "print(acc1)\n",
    "print(acc2)"
   ]
  },
  {
   "cell_type": "markdown",
   "metadata": {},
   "source": [
    "Cool Thing!!!\n"
   ]
  },
  {
   "cell_type": "code",
   "execution_count": 32,
   "metadata": {},
   "outputs": [
    {
     "data": {
      "image/png": "[encoded data removed]",
      "text/plain": [
       "<Figure size 640x480 with 1 Axes>"
      ]
     },
     "metadata": {},
     "output_type": "display_data"
    },
    {
     "name": "stdout",
     "output_type": "stream",
     "text": [
      "Our Model says, it is :  1\n"
     ]
    }
   ],
   "source": [
    "index = random.randrange(0,X_test.shape[1])\n",
    "plt.imshow(X_test[:, index].reshape(28,28),cmap='gray')\n",
    "plt.show()\n",
    "\n",
    "forward_cache = forward_propagation(X_test[:, index].reshape(X_test.shape[0],1),parameters)\n",
    "\n",
    "#* Here X_test[:, index] is a single row with 784 columns but x parameter in forward propagation should be of (n,m) where n is no of features \n",
    "#* 784 in this problem and m is no of observation i.e 1000 images for training and 350 for testing.\n",
    "\n",
    "a_out = forward_cache['a2']\n",
    "#* a_out here is an array of 10 values actually probabilities of each index(i.e from 0 to 9).\n",
    "\n",
    "a_out = np.argmax(a_out,0)\n",
    "#* argmax will return the value at index which has highest probability.\n",
    "\n",
    "print(\"Our Model says, it is : \", a_out[0])"
   ]
  },
  {
   "cell_type": "code",
   "execution_count": null,
   "metadata": {},
   "outputs": [],
   "source": []
  }
 ],
 "metadata": {
  "kernelspec": {
   "display_name": "Python 3",
   "language": "python",
   "name": "python3"
  },
  "language_info": {
   "codemirror_mode": {
    "name": "ipython",
    "version": 3
   },
   "file_extension": ".py",
   "mimetype": "text/x-python",
   "name": "python",
   "nbconvert_exporter": "python",
   "pygments_lexer": "ipython3",
   "version": "3.12.2"
  }
 },
 "nbformat": 4,
 "nbformat_minor": 2
}
