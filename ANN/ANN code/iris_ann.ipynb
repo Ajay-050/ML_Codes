{
 "cells": [
  {
   "cell_type": "code",
   "execution_count": 71,
   "metadata": {},
   "outputs": [],
   "source": [
    "import numpy as np\n",
    "import pandas as pd\n",
    "import matplotlib.pyplot as plt\n",
    "from sklearn.model_selection import train_test_split\n",
    "from sklearn.metrics import classification_report"
   ]
  },
  {
   "cell_type": "code",
   "execution_count": 72,
   "metadata": {},
   "outputs": [
    {
     "data": {
      "text/html": [
       "<div>\n",
       "<style scoped>\n",
       "    .dataframe tbody tr th:only-of-type {\n",
       "        vertical-align: middle;\n",
       "    }\n",
       "\n",
       "    .dataframe tbody tr th {\n",
       "        vertical-align: top;\n",
       "    }\n",
       "\n",
       "    .dataframe thead th {\n",
       "        text-align: right;\n",
       "    }\n",
       "</style>\n",
       "<table border=\"1\" class=\"dataframe\">\n",
       "  <thead>\n",
       "    <tr style=\"text-align: right;\">\n",
       "      <th></th>\n",
       "      <th>Id</th>\n",
       "      <th>SepalLengthCm</th>\n",
       "      <th>SepalWidthCm</th>\n",
       "      <th>PetalLengthCm</th>\n",
       "      <th>PetalWidthCm</th>\n",
       "      <th>Species</th>\n",
       "    </tr>\n",
       "  </thead>\n",
       "  <tbody>\n",
       "    <tr>\n",
       "      <th>0</th>\n",
       "      <td>1</td>\n",
       "      <td>5.1</td>\n",
       "      <td>3.5</td>\n",
       "      <td>1.4</td>\n",
       "      <td>0.2</td>\n",
       "      <td>Iris-setosa</td>\n",
       "    </tr>\n",
       "    <tr>\n",
       "      <th>1</th>\n",
       "      <td>2</td>\n",
       "      <td>4.9</td>\n",
       "      <td>3.0</td>\n",
       "      <td>1.4</td>\n",
       "      <td>0.2</td>\n",
       "      <td>Iris-setosa</td>\n",
       "    </tr>\n",
       "    <tr>\n",
       "      <th>2</th>\n",
       "      <td>3</td>\n",
       "      <td>4.7</td>\n",
       "      <td>3.2</td>\n",
       "      <td>1.3</td>\n",
       "      <td>0.2</td>\n",
       "      <td>Iris-setosa</td>\n",
       "    </tr>\n",
       "    <tr>\n",
       "      <th>3</th>\n",
       "      <td>4</td>\n",
       "      <td>4.6</td>\n",
       "      <td>3.1</td>\n",
       "      <td>1.5</td>\n",
       "      <td>0.2</td>\n",
       "      <td>Iris-setosa</td>\n",
       "    </tr>\n",
       "    <tr>\n",
       "      <th>4</th>\n",
       "      <td>5</td>\n",
       "      <td>5.0</td>\n",
       "      <td>3.6</td>\n",
       "      <td>1.4</td>\n",
       "      <td>0.2</td>\n",
       "      <td>Iris-setosa</td>\n",
       "    </tr>\n",
       "    <tr>\n",
       "      <th>...</th>\n",
       "      <td>...</td>\n",
       "      <td>...</td>\n",
       "      <td>...</td>\n",
       "      <td>...</td>\n",
       "      <td>...</td>\n",
       "      <td>...</td>\n",
       "    </tr>\n",
       "    <tr>\n",
       "      <th>145</th>\n",
       "      <td>146</td>\n",
       "      <td>6.7</td>\n",
       "      <td>3.0</td>\n",
       "      <td>5.2</td>\n",
       "      <td>2.3</td>\n",
       "      <td>Iris-virginica</td>\n",
       "    </tr>\n",
       "    <tr>\n",
       "      <th>146</th>\n",
       "      <td>147</td>\n",
       "      <td>6.3</td>\n",
       "      <td>2.5</td>\n",
       "      <td>5.0</td>\n",
       "      <td>1.9</td>\n",
       "      <td>Iris-virginica</td>\n",
       "    </tr>\n",
       "    <tr>\n",
       "      <th>147</th>\n",
       "      <td>148</td>\n",
       "      <td>6.5</td>\n",
       "      <td>3.0</td>\n",
       "      <td>5.2</td>\n",
       "      <td>2.0</td>\n",
       "      <td>Iris-virginica</td>\n",
       "    </tr>\n",
       "    <tr>\n",
       "      <th>148</th>\n",
       "      <td>149</td>\n",
       "      <td>6.2</td>\n",
       "      <td>3.4</td>\n",
       "      <td>5.4</td>\n",
       "      <td>2.3</td>\n",
       "      <td>Iris-virginica</td>\n",
       "    </tr>\n",
       "    <tr>\n",
       "      <th>149</th>\n",
       "      <td>150</td>\n",
       "      <td>5.9</td>\n",
       "      <td>3.0</td>\n",
       "      <td>5.1</td>\n",
       "      <td>1.8</td>\n",
       "      <td>Iris-virginica</td>\n",
       "    </tr>\n",
       "  </tbody>\n",
       "</table>\n",
       "<p>150 rows × 6 columns</p>\n",
       "</div>"
      ],
      "text/plain": [
       "      Id  SepalLengthCm  SepalWidthCm  PetalLengthCm  PetalWidthCm  \\\n",
       "0      1            5.1           3.5            1.4           0.2   \n",
       "1      2            4.9           3.0            1.4           0.2   \n",
       "2      3            4.7           3.2            1.3           0.2   \n",
       "3      4            4.6           3.1            1.5           0.2   \n",
       "4      5            5.0           3.6            1.4           0.2   \n",
       "..   ...            ...           ...            ...           ...   \n",
       "145  146            6.7           3.0            5.2           2.3   \n",
       "146  147            6.3           2.5            5.0           1.9   \n",
       "147  148            6.5           3.0            5.2           2.0   \n",
       "148  149            6.2           3.4            5.4           2.3   \n",
       "149  150            5.9           3.0            5.1           1.8   \n",
       "\n",
       "            Species  \n",
       "0       Iris-setosa  \n",
       "1       Iris-setosa  \n",
       "2       Iris-setosa  \n",
       "3       Iris-setosa  \n",
       "4       Iris-setosa  \n",
       "..              ...  \n",
       "145  Iris-virginica  \n",
       "146  Iris-virginica  \n",
       "147  Iris-virginica  \n",
       "148  Iris-virginica  \n",
       "149  Iris-virginica  \n",
       "\n",
       "[150 rows x 6 columns]"
      ]
     },
     "execution_count": 72,
     "metadata": {},
     "output_type": "execute_result"
    }
   ],
   "source": [
    "data = pd.read_csv(\"/home/ajaykumar/ML/ANN/ANN code/Iris (1).csv\")\n",
    "data"
   ]
  },
  {
   "cell_type": "code",
   "execution_count": 73,
   "metadata": {},
   "outputs": [
    {
     "name": "stdout",
     "output_type": "stream",
     "text": [
      "(150, 3)\n"
     ]
    }
   ],
   "source": [
    "data['Species'] = data['Species'].map({'Iris-setosa':0,'Iris-versicolor' : 1,'Iris-virginica' : 2})\n",
    "X = data.iloc[:,1:5].values\n",
    "Y = data.iloc[:,5].values\n",
    "Y = np.eye(3)[Y]\n",
    "# print(X)\n",
    "print(Y.shape)"
   ]
  },
  {
   "cell_type": "code",
   "execution_count": 74,
   "metadata": {},
   "outputs": [
    {
     "name": "stdout",
     "output_type": "stream",
     "text": [
      "(4, 120)\n",
      "(3, 120)\n",
      "(4, 30)\n",
      "(3, 30)\n"
     ]
    }
   ],
   "source": [
    "X_train,X_test,Y_train,Y_test = train_test_split(X,Y,test_size=0.2,random_state=42)\n",
    "X_train = X_train.T\n",
    "X_test = X_test.T\n",
    "Y_train = Y_train.T\n",
    "Y_test = Y_test.T\n",
    "print(X_train.shape)\n",
    "print(Y_train.shape)\n",
    "print(X_test.shape)\n",
    "print(Y_test.shape)"
   ]
  },
  {
   "cell_type": "code",
   "execution_count": 75,
   "metadata": {},
   "outputs": [],
   "source": [
    "def relu(x):\n",
    "    return np.maximum(0,x)\n",
    "def tanh(x):\n",
    "    return np.tanh(x);\n",
    "def softmax(x):\n",
    "    expX = np.exp(x)\n",
    "    return expX/np.sum(expX,axis=0)\n",
    "def derivative_tanh(x):\n",
    "    return 1 - np.power(tanh(x),2)\n",
    "def derivative_relu(x):\n",
    "    return np.array(x>0,dtype=np.float32)"
   ]
  },
  {
   "cell_type": "code",
   "execution_count": 76,
   "metadata": {},
   "outputs": [],
   "source": [
    "def initialise_parameters(n_x,n_h,n_y):\n",
    "    w1 = np.random.randn(n_h,n_x)*0.001\n",
    "    b1 = np.zeros((n_h,1))\n",
    "\n",
    "    w2 = np.random.randn(n_y,n_h)*0.001\n",
    "    b2 = np.zeros((n_y,1))\n",
    "\n",
    "    parameters = {\n",
    "        \"w1\" : w1,\n",
    "        \"b1\" : b1,\n",
    "        \"w2\" : w2,\n",
    "        \"b2\" : b2\n",
    "    }\n",
    "    return parameters\n"
   ]
  },
  {
   "cell_type": "code",
   "execution_count": 77,
   "metadata": {},
   "outputs": [],
   "source": [
    "def forward_prop(x,parameters):\n",
    "    w1 = parameters['w1']\n",
    "    b1 = parameters['b1']\n",
    "\n",
    "    w2 = parameters['w2']\n",
    "    b2 = parameters['b2']\n",
    "\n",
    "    z1 = np.dot(w1,x)+b1\n",
    "    a1 = relu(z1)\n",
    "\n",
    "    z2 = np.dot(w2,a1)+b2\n",
    "    a2 = softmax(z2)\n",
    "\n",
    "    forward_cache = {\n",
    "        \"z1\" : z1,\n",
    "        \"a1\" : a1,\n",
    "        \"z2\" : z2,\n",
    "        \"a2\" : a2\n",
    "    }\n",
    "\n",
    "    return forward_cache"
   ]
  },
  {
   "cell_type": "code",
   "execution_count": 78,
   "metadata": {},
   "outputs": [],
   "source": [
    "def cost_func(a2,y):\n",
    "    m = y.shape[1]\n",
    "    cost = -(1/m)*np.sum(y*np.log(a2))\n",
    "    return cost"
   ]
  },
  {
   "cell_type": "code",
   "execution_count": 79,
   "metadata": {},
   "outputs": [],
   "source": [
    "def backward_prop(x,y,parameters,forward_cache):\n",
    "\n",
    "    m = x.shape[1]\n",
    "\n",
    "    w1 = parameters['w1']\n",
    "    b1 = parameters['b1']\n",
    "\n",
    "    w2 = parameters['w2']\n",
    "    b2 = parameters['b2']\n",
    "\n",
    "    z1 = forward_cache['z1']\n",
    "    a1 = forward_cache['a1']\n",
    "\n",
    "    z2 = forward_cache['z2']\n",
    "    a2 = forward_cache['a2']\n",
    "\n",
    "    dz2 = a2-y\n",
    "    dw2 = (1/m)*np.dot(dz2,a1.T)\n",
    "    db2 = (1/m)*np.sum(dz2,axis=1,keepdims=True)\n",
    "\n",
    "    dz1 = np.dot(w2.T,dz2)*derivative_relu(z1)\n",
    "    dw1 = (1/m)*np.dot(dz1,x.T)\n",
    "    db1 = (1/m)*np.sum(dz1,axis=1,keepdims=True)\n",
    "\n",
    "    gradients = {\n",
    "        \"dw1\" : dw1,\n",
    "        \"db1\" : db1,\n",
    "        \"dw2\" : dw2,\n",
    "        \"db2\" : db2\n",
    "    }\n",
    "\n",
    "    return gradients"
   ]
  },
  {
   "cell_type": "code",
   "execution_count": 80,
   "metadata": {},
   "outputs": [],
   "source": [
    "def update_parameters(parameters,gradients,learning_rate):\n",
    "    w1 = parameters['w1']\n",
    "    b1 = parameters['b1']\n",
    "\n",
    "    w2 = parameters['w2']\n",
    "    b2 = parameters['b2']\n",
    "\n",
    "    dw1 = gradients['dw1']\n",
    "    db1 = gradients['db1']\n",
    "\n",
    "    dw2 = gradients['dw2']\n",
    "    db2 = gradients['db2']\n",
    "\n",
    "    w1 = w1 - learning_rate*dw1\n",
    "    b1 = b1 -learning_rate*db1\n",
    "\n",
    "    w2 = w2 - learning_rate*dw2\n",
    "    b2 = b2 - learning_rate*db2\n",
    "\n",
    "    parameters = {\n",
    "        \"w1\" : w1,\n",
    "        \"b1\" : b1,\n",
    "        \"w2\" : w2,\n",
    "        \"b2\" : b2\n",
    "    }\n",
    "    return parameters"
   ]
  },
  {
   "cell_type": "code",
   "execution_count": 81,
   "metadata": {},
   "outputs": [],
   "source": [
    "def model(x,y,n_h,learning_rate,epochs):\n",
    "    n_x = x.shape[0]\n",
    "    n_y = y.shape[0]\n",
    "\n",
    "    cost_list = []\n",
    "    parameters = initialise_parameters(n_x,n_h,n_y)\n",
    "\n",
    "    for i in range(epochs):\n",
    "        forward_cache = forward_prop(x,parameters)\n",
    "        a2 = forward_cache['a2']\n",
    "        cost = cost_func(a2,y)\n",
    "        cost_list.append(cost)\n",
    "        gradients = backward_prop(x,y,parameters,forward_cache)\n",
    "        parameters = update_parameters(parameters,gradients,learning_rate)\n",
    "    \n",
    "    return parameters,cost_list"
   ]
  },
  {
   "cell_type": "code",
   "execution_count": 82,
   "metadata": {},
   "outputs": [
    {
     "data": {
      "text/plain": [
       "[1.098614362096194,\n",
       " 1.0985922370511776,\n",
       " 1.0985722955837425,\n",
       " 1.0985542547643192,\n",
       " 1.0985379510731381,\n",
       " 1.098523029985826,\n",
       " 1.0985087763904473,\n",
       " 1.0984954613511797,\n",
       " 1.0984819146513305,\n",
       " 1.0984685556868143,\n",
       " 1.0984551400869966,\n",
       " 1.0984400704023696,\n",
       " 1.098423852046055,\n",
       " 1.0984048334957601,\n",
       " 1.0983810006697103,\n",
       " 1.0983523429218693,\n",
       " 1.0983168753025063,\n",
       " 1.09827015798997,\n",
       " 1.098210591890064,\n",
       " 1.0981294487238105,\n",
       " 1.0980246873636519,\n",
       " 1.0978833411375122,\n",
       " 1.0976962856603938,\n",
       " 1.0974403717108099,\n",
       " 1.0971034397117911,\n",
       " 1.0966454366462672,\n",
       " 1.09603665944873,\n",
       " 1.095211219208328,\n",
       " 1.0941211808174702,\n",
       " 1.0926603348447488,\n",
       " 1.0907439213989805,\n",
       " 1.0882205016322055,\n",
       " 1.0849749754412215,\n",
       " 1.0808125440215068,\n",
       " 1.0756234413152714,\n",
       " 1.069228307392441,\n",
       " 1.0615606515668048,\n",
       " 1.052494907508152,\n",
       " 1.0419863780503142,\n",
       " 1.0299434385789836,\n",
       " 1.0161447005469575,\n",
       " 1.0003015977834488,\n",
       " 0.9820704574059095,\n",
       " 0.9613015537125466,\n",
       " 0.9396148768775895,\n",
       " 0.9177382020038382,\n",
       " 0.8965915409586062,\n",
       " 0.87984131600186,\n",
       " 0.8643808911354557,\n",
       " 0.8482805723528482,\n",
       " 0.8289289197658812,\n",
       " 0.8027401270783701,\n",
       " 0.7867260190106877,\n",
       " 0.7521816584087176,\n",
       " 0.7371384220860756,\n",
       " 0.7022292321566995,\n",
       " 0.6821264279229902,\n",
       " 0.6557899076146958,\n",
       " 0.6386103521636257,\n",
       " 0.6125992624670664,\n",
       " 0.5960043483507936,\n",
       " 0.5743122867350214,\n",
       " 0.5580500013980114,\n",
       " 0.5411095748370509,\n",
       " 0.5265777854090663,\n",
       " 0.5135803738034723,\n",
       " 0.5019379078926887,\n",
       " 0.4914048383364059,\n",
       " 0.48196281416516307,\n",
       " 0.4726406716236073,\n",
       " 0.46520739828136964,\n",
       " 0.4578716779925254,\n",
       " 0.452803864054723,\n",
       " 0.44947651533265454,\n",
       " 0.4500413403298926,\n",
       " 0.45578554509324526,\n",
       " 0.47024991899778756,\n",
       " 0.49315224155505816,\n",
       " 0.523179354829588,\n",
       " 0.5443903031968214,\n",
       " 0.5463959711471439,\n",
       " 0.5194323502624165,\n",
       " 0.49343431115664504,\n",
       " 0.46042082859743055,\n",
       " 0.4406072456912528,\n",
       " 0.42604968588721814,\n",
       " 0.4172468852640172,\n",
       " 0.4132282995878307,\n",
       " 0.4126659517247275,\n",
       " 0.41917379034292945,\n",
       " 0.4303216170153,\n",
       " 0.452603463999921,\n",
       " 0.470851726711999,\n",
       " 0.49589490187971336,\n",
       " 0.4901615774387417,\n",
       " 0.48924189412196284,\n",
       " 0.4603108886817425,\n",
       " 0.4472265983530715,\n",
       " 0.42578324749278457,\n",
       " 0.4179242860396716]"
      ]
     },
     "execution_count": 82,
     "metadata": {},
     "output_type": "execute_result"
    }
   ],
   "source": [
    "learning_rate = 0.15\n",
    "epochs = 100\n",
    "n_h = 20\n",
    "parameters,cost_list = model(X_train,Y_train,n_h=n_h,learning_rate=learning_rate,epochs=epochs)\n",
    "cost_list"
   ]
  },
  {
   "cell_type": "code",
   "execution_count": 83,
   "metadata": {},
   "outputs": [
    {
     "data": {
      "image/png": "[encoded data removed]",
      "text/plain": [
       "<Figure size 640x480 with 1 Axes>"
      ]
     },
     "metadata": {},
     "output_type": "display_data"
    }
   ],
   "source": [
    "rng = np.arange(0,epochs)\n",
    "plt.plot(rng,cost_list)\n",
    "plt.show()"
   ]
  },
  {
   "cell_type": "code",
   "execution_count": 84,
   "metadata": {},
   "outputs": [],
   "source": [
    "def accuracy(x,y,parameters):\n",
    "    forward_cache = forward_prop(x,parameters)\n",
    "    a2 = forward_cache['a2']\n",
    "    a2 = np.argmax(a2,0)\n",
    "    y = np.argmax(y,0)\n",
    "    acc = np.mean(a2 == y)*100\n",
    "    return acc"
   ]
  },
  {
   "cell_type": "code",
   "execution_count": 85,
   "metadata": {},
   "outputs": [
    {
     "name": "stdout",
     "output_type": "stream",
     "text": [
      "70.83333333333334\n",
      "80.0\n"
     ]
    }
   ],
   "source": [
    "acc = accuracy(X_train,Y_train,parameters)\n",
    "print(acc)\n",
    "acc2 = accuracy(X_test,Y_test,parameters)\n",
    "print(acc2)"
   ]
  },
  {
   "cell_type": "code",
   "execution_count": 86,
   "metadata": {},
   "outputs": [
    {
     "name": "stdout",
     "output_type": "stream",
     "text": [
      "1\n",
      "Iris-versicolor\n"
     ]
    }
   ],
   "source": [
    "idx = np.random.randint(0,X_test.shape[1])\n",
    "forward_cache = forward_prop(X_test[:,idx].reshape(X_test.shape[0],1),parameters)\n",
    "a2 = forward_cache['a2']\n",
    "a2 = np.argmax(a2)\n",
    "print(a2)\n",
    "if a2 == 0 :\n",
    "    print(\"Iris-setosa\")\n",
    "elif a2 == 1:\n",
    "    print(\"Iris-versicolor\")\n",
    "elif a2 == 2:\n",
    "    print(\"Iris-virginica\")"
   ]
  },
  {
   "cell_type": "code",
   "execution_count": 87,
   "metadata": {},
   "outputs": [
    {
     "name": "stdout",
     "output_type": "stream",
     "text": [
      "(3, 30)\n"
     ]
    }
   ],
   "source": [
    "forward_cache1 = forward_prop(X_test,parameters)\n",
    "a_out = forward_cache1['a2']\n",
    "print(a_out.shape)\n",
    "Y_pred = np.argmax(a_out,0)\n",
    "Y_test = np.argmax(Y_test,0)"
   ]
  },
  {
   "cell_type": "code",
   "execution_count": 88,
   "metadata": {},
   "outputs": [
    {
     "data": {
      "text/plain": [
       "'              precision    recall  f1-score   support\\n\\n           0       1.00      1.00      1.00        10\\n           1       0.60      1.00      0.75         9\\n           2       1.00      0.45      0.62        11\\n\\n    accuracy                           0.80        30\\n   macro avg       0.87      0.82      0.79        30\\nweighted avg       0.88      0.80      0.79        30\\n'"
      ]
     },
     "execution_count": 88,
     "metadata": {},
     "output_type": "execute_result"
    }
   ],
   "source": [
    "report  = classification_report(Y_test,Y_pred)\n",
    "report"
   ]
  },
  {
   "cell_type": "code",
   "execution_count": null,
   "metadata": {},
   "outputs": [],
   "source": []
  }
 ],
 "metadata": {
  "kernelspec": {
   "display_name": "Python 3",
   "language": "python",
   "name": "python3"
  },
  "language_info": {
   "codemirror_mode": {
    "name": "ipython",
    "version": 3
   },
   "file_extension": ".py",
   "mimetype": "text/x-python",
   "name": "python",
   "nbconvert_exporter": "python",
   "pygments_lexer": "ipython3",
   "version": "3.12.2"
  }
 },
 "nbformat": 4,
 "nbformat_minor": 2
}
