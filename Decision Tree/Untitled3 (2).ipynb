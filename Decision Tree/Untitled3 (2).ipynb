{
 "cells": [
  {
   "cell_type": "code",
   "execution_count": 9,
   "id": "4bfb8d4d",
   "metadata": {},
   "outputs": [
    {
     "name": "stdout",
     "output_type": "stream",
     "text": [
      "age          int64\n",
      "sex          int64\n",
      "cp           int64\n",
      "restbp       int64\n",
      "chol         int64\n",
      "fbs          int64\n",
      "restecg      int64\n",
      "thalach      int64\n",
      "exang        int64\n",
      "oldpeak    float64\n",
      "slope        int64\n",
      "ca          object\n",
      "thal        object\n",
      "hd           int64\n",
      "dtype: object\n"
     ]
    }
   ],
   "source": [
    "import numpy as np\n",
    "import pandas as pd\n",
    "from sklearn.ensemble import RandomForestClassifier\n",
    "from sklearn.metrics import classification_report,confusion_matrix,accuracy_score\n",
    "\n",
    "data = pd.read_csv(\"/home/ajaykumar/ML/Decision Tree/Heart_Disease .csv\")\n",
    "data\n",
    "\n",
    "datadtypes = data.dtypes\n",
    "print(datadtypes)\n"
   ]
  },
  {
   "cell_type": "code",
   "execution_count": 8,
   "id": "eb383309",
   "metadata": {},
   "outputs": [
    {
     "name": "stdout",
     "output_type": "stream",
     "text": [
      "age          int64\n",
      "sex          int64\n",
      "cp           int64\n",
      "restbp       int64\n",
      "chol         int64\n",
      "fbs          int64\n",
      "restecg      int64\n",
      "thalach      int64\n",
      "exang        int64\n",
      "oldpeak    float64\n",
      "slope        int64\n",
      "ca         float64\n",
      "thal       float64\n",
      "hd           int64\n",
      "dtype: object\n"
     ]
    },
    {
     "data": {
      "text/html": [
       "<div>\n",
       "<style scoped>\n",
       "    .dataframe tbody tr th:only-of-type {\n",
       "        vertical-align: middle;\n",
       "    }\n",
       "\n",
       "    .dataframe tbody tr th {\n",
       "        vertical-align: top;\n",
       "    }\n",
       "\n",
       "    .dataframe thead th {\n",
       "        text-align: right;\n",
       "    }\n",
       "</style>\n",
       "<table border=\"1\" class=\"dataframe\">\n",
       "  <thead>\n",
       "    <tr style=\"text-align: right;\">\n",
       "      <th></th>\n",
       "      <th>age</th>\n",
       "      <th>sex</th>\n",
       "      <th>cp</th>\n",
       "      <th>restbp</th>\n",
       "      <th>chol</th>\n",
       "      <th>fbs</th>\n",
       "      <th>restecg</th>\n",
       "      <th>thalach</th>\n",
       "      <th>exang</th>\n",
       "      <th>oldpeak</th>\n",
       "      <th>slope</th>\n",
       "      <th>ca</th>\n",
       "      <th>thal</th>\n",
       "      <th>hd</th>\n",
       "    </tr>\n",
       "  </thead>\n",
       "  <tbody>\n",
       "    <tr>\n",
       "      <th>0</th>\n",
       "      <td>63</td>\n",
       "      <td>1</td>\n",
       "      <td>1</td>\n",
       "      <td>145</td>\n",
       "      <td>233</td>\n",
       "      <td>1</td>\n",
       "      <td>2</td>\n",
       "      <td>150</td>\n",
       "      <td>0</td>\n",
       "      <td>2.3</td>\n",
       "      <td>3</td>\n",
       "      <td>0.000000</td>\n",
       "      <td>6.0</td>\n",
       "      <td>0</td>\n",
       "    </tr>\n",
       "    <tr>\n",
       "      <th>1</th>\n",
       "      <td>67</td>\n",
       "      <td>1</td>\n",
       "      <td>4</td>\n",
       "      <td>160</td>\n",
       "      <td>286</td>\n",
       "      <td>0</td>\n",
       "      <td>2</td>\n",
       "      <td>108</td>\n",
       "      <td>1</td>\n",
       "      <td>1.5</td>\n",
       "      <td>2</td>\n",
       "      <td>3.000000</td>\n",
       "      <td>3.0</td>\n",
       "      <td>1</td>\n",
       "    </tr>\n",
       "    <tr>\n",
       "      <th>2</th>\n",
       "      <td>67</td>\n",
       "      <td>1</td>\n",
       "      <td>4</td>\n",
       "      <td>120</td>\n",
       "      <td>229</td>\n",
       "      <td>0</td>\n",
       "      <td>2</td>\n",
       "      <td>129</td>\n",
       "      <td>1</td>\n",
       "      <td>2.6</td>\n",
       "      <td>2</td>\n",
       "      <td>2.000000</td>\n",
       "      <td>7.0</td>\n",
       "      <td>1</td>\n",
       "    </tr>\n",
       "    <tr>\n",
       "      <th>3</th>\n",
       "      <td>37</td>\n",
       "      <td>1</td>\n",
       "      <td>3</td>\n",
       "      <td>130</td>\n",
       "      <td>250</td>\n",
       "      <td>0</td>\n",
       "      <td>0</td>\n",
       "      <td>187</td>\n",
       "      <td>0</td>\n",
       "      <td>3.5</td>\n",
       "      <td>3</td>\n",
       "      <td>0.000000</td>\n",
       "      <td>3.0</td>\n",
       "      <td>0</td>\n",
       "    </tr>\n",
       "    <tr>\n",
       "      <th>4</th>\n",
       "      <td>41</td>\n",
       "      <td>0</td>\n",
       "      <td>2</td>\n",
       "      <td>130</td>\n",
       "      <td>204</td>\n",
       "      <td>0</td>\n",
       "      <td>2</td>\n",
       "      <td>172</td>\n",
       "      <td>0</td>\n",
       "      <td>1.4</td>\n",
       "      <td>1</td>\n",
       "      <td>0.000000</td>\n",
       "      <td>3.0</td>\n",
       "      <td>0</td>\n",
       "    </tr>\n",
       "    <tr>\n",
       "      <th>...</th>\n",
       "      <td>...</td>\n",
       "      <td>...</td>\n",
       "      <td>...</td>\n",
       "      <td>...</td>\n",
       "      <td>...</td>\n",
       "      <td>...</td>\n",
       "      <td>...</td>\n",
       "      <td>...</td>\n",
       "      <td>...</td>\n",
       "      <td>...</td>\n",
       "      <td>...</td>\n",
       "      <td>...</td>\n",
       "      <td>...</td>\n",
       "      <td>...</td>\n",
       "    </tr>\n",
       "    <tr>\n",
       "      <th>298</th>\n",
       "      <td>45</td>\n",
       "      <td>1</td>\n",
       "      <td>1</td>\n",
       "      <td>110</td>\n",
       "      <td>264</td>\n",
       "      <td>0</td>\n",
       "      <td>0</td>\n",
       "      <td>132</td>\n",
       "      <td>0</td>\n",
       "      <td>1.2</td>\n",
       "      <td>2</td>\n",
       "      <td>0.000000</td>\n",
       "      <td>7.0</td>\n",
       "      <td>1</td>\n",
       "    </tr>\n",
       "    <tr>\n",
       "      <th>299</th>\n",
       "      <td>68</td>\n",
       "      <td>1</td>\n",
       "      <td>4</td>\n",
       "      <td>144</td>\n",
       "      <td>193</td>\n",
       "      <td>1</td>\n",
       "      <td>0</td>\n",
       "      <td>141</td>\n",
       "      <td>0</td>\n",
       "      <td>3.4</td>\n",
       "      <td>2</td>\n",
       "      <td>2.000000</td>\n",
       "      <td>7.0</td>\n",
       "      <td>1</td>\n",
       "    </tr>\n",
       "    <tr>\n",
       "      <th>300</th>\n",
       "      <td>57</td>\n",
       "      <td>1</td>\n",
       "      <td>4</td>\n",
       "      <td>130</td>\n",
       "      <td>131</td>\n",
       "      <td>0</td>\n",
       "      <td>0</td>\n",
       "      <td>115</td>\n",
       "      <td>1</td>\n",
       "      <td>1.2</td>\n",
       "      <td>2</td>\n",
       "      <td>1.000000</td>\n",
       "      <td>7.0</td>\n",
       "      <td>1</td>\n",
       "    </tr>\n",
       "    <tr>\n",
       "      <th>301</th>\n",
       "      <td>57</td>\n",
       "      <td>0</td>\n",
       "      <td>2</td>\n",
       "      <td>130</td>\n",
       "      <td>236</td>\n",
       "      <td>0</td>\n",
       "      <td>2</td>\n",
       "      <td>174</td>\n",
       "      <td>0</td>\n",
       "      <td>0.0</td>\n",
       "      <td>2</td>\n",
       "      <td>1.000000</td>\n",
       "      <td>3.0</td>\n",
       "      <td>1</td>\n",
       "    </tr>\n",
       "    <tr>\n",
       "      <th>302</th>\n",
       "      <td>38</td>\n",
       "      <td>1</td>\n",
       "      <td>3</td>\n",
       "      <td>138</td>\n",
       "      <td>175</td>\n",
       "      <td>0</td>\n",
       "      <td>0</td>\n",
       "      <td>173</td>\n",
       "      <td>0</td>\n",
       "      <td>0.0</td>\n",
       "      <td>1</td>\n",
       "      <td>0.672241</td>\n",
       "      <td>3.0</td>\n",
       "      <td>0</td>\n",
       "    </tr>\n",
       "  </tbody>\n",
       "</table>\n",
       "<p>303 rows × 14 columns</p>\n",
       "</div>"
      ],
      "text/plain": [
       "     age  sex  cp  restbp  chol  fbs  restecg  thalach  exang  oldpeak  slope  \\\n",
       "0     63    1   1     145   233    1        2      150      0      2.3      3   \n",
       "1     67    1   4     160   286    0        2      108      1      1.5      2   \n",
       "2     67    1   4     120   229    0        2      129      1      2.6      2   \n",
       "3     37    1   3     130   250    0        0      187      0      3.5      3   \n",
       "4     41    0   2     130   204    0        2      172      0      1.4      1   \n",
       "..   ...  ...  ..     ...   ...  ...      ...      ...    ...      ...    ...   \n",
       "298   45    1   1     110   264    0        0      132      0      1.2      2   \n",
       "299   68    1   4     144   193    1        0      141      0      3.4      2   \n",
       "300   57    1   4     130   131    0        0      115      1      1.2      2   \n",
       "301   57    0   2     130   236    0        2      174      0      0.0      2   \n",
       "302   38    1   3     138   175    0        0      173      0      0.0      1   \n",
       "\n",
       "           ca  thal  hd  \n",
       "0    0.000000   6.0   0  \n",
       "1    3.000000   3.0   1  \n",
       "2    2.000000   7.0   1  \n",
       "3    0.000000   3.0   0  \n",
       "4    0.000000   3.0   0  \n",
       "..        ...   ...  ..  \n",
       "298  0.000000   7.0   1  \n",
       "299  2.000000   7.0   1  \n",
       "300  1.000000   7.0   1  \n",
       "301  1.000000   3.0   1  \n",
       "302  0.672241   3.0   0  \n",
       "\n",
       "[303 rows x 14 columns]"
      ]
     },
     "execution_count": 8,
     "metadata": {},
     "output_type": "execute_result"
    }
   ],
   "source": [
    "####Missing values\n",
    "data.replace('?',np.nan,inplace=True)\n",
    "data.isnull().any()\n",
    "\n",
    "data['ca'] = data['ca'].astype(float)\n",
    "data['thal'] = data['thal'].astype(float)\n",
    "# data = data.dropna()\n",
    "# data\n",
    "\n",
    "data = data.fillna(data.mean())\n",
    "data\n",
    "# # data['ca'] = data['ca'].fillna(data['ca'].mean())\n",
    "# # data['thal'] = data['thal'].fillna(data['thal'].mean())\n",
    "# X = data.iloc[:,0:13]\n",
    "# Y = data.iloc[:,13]\n",
    "data = pd.get_dummies(X,columns=['ca','thal','restecg','slope'])"
   ]
  },
  {
   "cell_type": "code",
   "execution_count": 51,
   "id": "a5c0650a",
   "metadata": {},
   "outputs": [
    {
     "data": {
      "text/plain": [
       "{'bootstrap': True,\n",
       " 'ccp_alpha': 0.0,\n",
       " 'class_weight': None,\n",
       " 'criterion': 'gini',\n",
       " 'max_depth': None,\n",
       " 'max_features': 'auto',\n",
       " 'max_leaf_nodes': None,\n",
       " 'max_samples': None,\n",
       " 'min_impurity_decrease': 0.0,\n",
       " 'min_samples_leaf': 1,\n",
       " 'min_samples_split': 2,\n",
       " 'min_weight_fraction_leaf': 0.0,\n",
       " 'n_estimators': 100,\n",
       " 'n_jobs': None,\n",
       " 'oob_score': False,\n",
       " 'random_state': 42,\n",
       " 'verbose': 0,\n",
       " 'warm_start': False}"
      ]
     },
     "execution_count": 51,
     "metadata": {},
     "output_type": "execute_result"
    }
   ],
   "source": [
    "from sklearn.model_selection import cross_val_score,train_test_split\n",
    "import matplotlib.pyplot as plt\n",
    "\n",
    "X_train,X_test,Y_train,Y_test = train_test_split(X,Y,test_size=0.2,random_state=42)\n",
    "rfc = RandomForestClassifier(criterion='gini',random_state=42)\n",
    "\n",
    "rfc.fit(X_train,Y_train)\n",
    "y_pred = rfc.predict(X_test)\n",
    "rfc.get_params()"
   ]
  },
  {
   "cell_type": "code",
   "execution_count": 52,
   "id": "d2c5c5f3",
   "metadata": {},
   "outputs": [
    {
     "name": "stdout",
     "output_type": "stream",
     "text": [
      "Feature importance array is : [0.09495746 0.03245952 0.10365331 0.08975618 0.09772371 0.01348845\n",
      " 0.01673694 0.12859532 0.05220994 0.10365898 0.03397059 0.12831081\n",
      " 0.10447881]\n"
     ]
    }
   ],
   "source": [
    "###Feature importance \n",
    "print(\"Feature importance array is :\",rfc.feature_importances_)"
   ]
  },
  {
   "cell_type": "code",
   "execution_count": 53,
   "id": "0dce1eff",
   "metadata": {},
   "outputs": [
    {
     "data": {
      "image/png": "[encoded data removed]",
      "text/plain": [
       "<Figure size 432x288 with 2 Axes>"
      ]
     },
     "metadata": {
      "needs_background": "light"
     },
     "output_type": "display_data"
    }
   ],
   "source": [
    "import seaborn as snb\n",
    "\n",
    "conf_matrix = confusion_matrix(Y_test,y_pred)\n",
    "snb.heatmap(conf_matrix,annot=True,fmt=\"d\",cmap=\"Blues\")\n",
    "plt.xlabel('Predicted values')\n",
    "plt.ylabel('True values')\n",
    "plt.title('Confusion matrix')\n",
    "plt.show()"
   ]
  },
  {
   "cell_type": "code",
   "execution_count": 54,
   "id": "63ac8f61",
   "metadata": {},
   "outputs": [
    {
     "name": "stdout",
     "output_type": "stream",
     "text": [
      "The cv_scores for 10 folds is :  [0.79166667 0.83333333 0.83333333 0.91666667 0.70833333 0.91666667\n",
      " 0.66666667 0.73913043 0.86956522 0.7826087 ]\n"
     ]
    },
    {
     "data": {
      "image/png": "[encoded data removed]",
      "text/plain": [
       "<Figure size 432x288 with 1 Axes>"
      ]
     },
     "metadata": {
      "needs_background": "light"
     },
     "output_type": "display_data"
    }
   ],
   "source": [
    "####Cross validation\n",
    "cv_scores = cross_val_score(rfc,X_train,Y_train,cv=10)\n",
    "print(\"The cv_scores for 10 folds is : \",cv_scores)\n",
    "\n",
    "plt.bar(np.arange(1,len(cv_scores)+1),cv_scores)\n",
    "plt.xlabel('Fold')\n",
    "plt.ylabel('Accuracy')\n",
    "plt.title('Cross Validation')\n",
    "plt.ylim(0,1)\n",
    "plt.grid(axis='y')\n",
    "plt.show()"
   ]
  },
  {
   "cell_type": "code",
   "execution_count": 55,
   "id": "e4755a4b",
   "metadata": {},
   "outputs": [
    {
     "name": "stdout",
     "output_type": "stream",
     "text": [
      "The accuracy is :  0.8833333333333333\n",
      "              precision    recall  f1-score   support\n",
      "\n",
      "           0       0.91      0.89      0.90        36\n",
      "           1       0.84      0.88      0.86        24\n",
      "\n",
      "    accuracy                           0.88        60\n",
      "   macro avg       0.88      0.88      0.88        60\n",
      "weighted avg       0.88      0.88      0.88        60\n",
      "\n"
     ]
    }
   ],
   "source": [
    "##accuracy score\n",
    "print(\"The accuracy is : \",accuracy_score(Y_test,y_pred))\n",
    "\n",
    "report = classification_report(Y_test,y_pred)\n",
    "print(report)"
   ]
  },
  {
   "cell_type": "code",
   "execution_count": 65,
   "id": "45000159",
   "metadata": {},
   "outputs": [
    {
     "name": "stdout",
     "output_type": "stream",
     "text": [
      "Optimal values are :  {'n_estimators': 20, 'max_features': 'sqrt', 'max_depth': 7}\n"
     ]
    }
   ],
   "source": [
    "from sklearn.model_selection import RandomizedSearchCV\n",
    "\n",
    "###Optimal Features\n",
    "n_estimators = [10,20,30,50,100]\n",
    "max_depth = [2,3,5,7,8]\n",
    "max_features = ['sqrt','log2']\n",
    "\n",
    "sample_grid = {\n",
    "    'n_estimators' : n_estimators,\n",
    "    'max_depth' : max_depth,\n",
    "    'max_features' : max_features\n",
    "}\n",
    "\n",
    "random_search = RandomizedSearchCV(rfc,sample_grid,cv=10)\n",
    "\n",
    "random_search.fit(X_train,Y_train)\n",
    "\n",
    "print(\"Optimal values are : \",random_search.best_params_)"
   ]
  },
  {
   "cell_type": "code",
   "execution_count": 66,
   "id": "18fcf2dd",
   "metadata": {},
   "outputs": [
    {
     "data": {
      "text/plain": [
       "array([0, 0, 0, 1, 0, 0, 0, 1, 1, 0, 0, 0, 0, 0, 0, 0, 0, 0, 1, 0, 1, 1,\n",
       "       1, 0, 1, 0, 1, 1, 0, 0, 0, 0, 1, 0, 0, 0, 1, 0, 1, 1, 0, 1, 1, 1,\n",
       "       0, 1, 0, 1, 0, 0, 0, 1, 0, 0, 1, 1, 0, 0, 1, 1])"
      ]
     },
     "execution_count": 66,
     "metadata": {},
     "output_type": "execute_result"
    }
   ],
   "source": [
    "###Finding the best model\n",
    "best_model = random_search.best_estimator_\n",
    "y_pred2 = best_model.predict(X_test)\n",
    "y_pred2"
   ]
  },
  {
   "cell_type": "code",
   "execution_count": 67,
   "id": "afc21c42",
   "metadata": {},
   "outputs": [
    {
     "name": "stdout",
     "output_type": "stream",
     "text": [
      "The accuracy is :  0.9\n",
      "              precision    recall  f1-score   support\n",
      "\n",
      "           0       0.92      0.92      0.92        36\n",
      "           1       0.88      0.88      0.88        24\n",
      "\n",
      "    accuracy                           0.90        60\n",
      "   macro avg       0.90      0.90      0.90        60\n",
      "weighted avg       0.90      0.90      0.90        60\n",
      "\n"
     ]
    },
    {
     "data": {
      "image/png": "[encoded data removed]",
      "text/plain": [
       "<Figure size 432x288 with 2 Axes>"
      ]
     },
     "metadata": {
      "needs_background": "light"
     },
     "output_type": "display_data"
    }
   ],
   "source": [
    "##accuracy score\n",
    "print(\"The accuracy is : \",accuracy_score(Y_test,y_pred2))\n",
    "\n",
    "report = classification_report(Y_test,y_pred2)\n",
    "print(report)\n",
    "\n",
    "\n",
    "conf_matrix = confusion_matrix(Y_test,y_pred2)\n",
    "snb.heatmap(conf_matrix,annot=True,fmt=\"d\",cmap=\"Blues\")\n",
    "plt.xlabel('Predicted values')\n",
    "plt.ylabel('True values')\n",
    "plt.title('Confusion matrix')\n",
    "plt.show()"
   ]
  },
  {
   "cell_type": "code",
   "execution_count": null,
   "id": "3e28bd6b",
   "metadata": {},
   "outputs": [],
   "source": []
  }
 ],
 "metadata": {
  "kernelspec": {
   "display_name": "Python 3 (ipykernel)",
   "language": "python",
   "name": "python3"
  },
  "language_info": {
   "codemirror_mode": {
    "name": "ipython",
    "version": 3
   },
   "file_extension": ".py",
   "mimetype": "text/x-python",
   "name": "python",
   "nbconvert_exporter": "python",
   "pygments_lexer": "ipython3",
   "version": "3.12.2"
  }
 },
 "nbformat": 4,
 "nbformat_minor": 5
}
